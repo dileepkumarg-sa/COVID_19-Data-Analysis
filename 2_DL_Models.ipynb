{
  "nbformat": 4,
  "nbformat_minor": 0,
  "metadata": {
    "colab": {
      "name": "2_DL.Models.ipynb",
      "provenance": [],
      "collapsed_sections": [],
      "toc_visible": true,
      "include_colab_link": true
    },
    "kernelspec": {
      "display_name": "Python 3",
      "language": "python",
      "name": "python3"
    },
    "language_info": {
      "codemirror_mode": {
        "name": "ipython",
        "version": 3
      },
      "file_extension": ".py",
      "mimetype": "text/x-python",
      "name": "python",
      "nbconvert_exporter": "python",
      "pygments_lexer": "ipython3",
      "version": "3.7.7"
    }
  },
  "cells": [
    {
      "cell_type": "markdown",
      "metadata": {
        "id": "view-in-github",
        "colab_type": "text"
      },
      "source": [
        "<a href=\"https://colab.research.google.com/github/dileepkumarg-sa/COVID_19-Data-Analysis/blob/master/2_DL_Models.ipynb\" target=\"_parent\"><img src=\"https://colab.research.google.com/assets/colab-badge.svg\" alt=\"Open In Colab\"/></a>"
      ]
    },
    {
      "cell_type": "code",
      "metadata": {
        "colab": {
          "base_uri": "https://localhost:8080/"
        },
        "id": "dGGAn8g1MNJz",
        "outputId": "8daec6b4-5a4e-4603-f5e6-361acc375bab"
      },
      "source": [
        "import pandas as pd\n",
        "import numpy as np\n",
        "\n",
        "from numpy.random import seed\n",
        "#from tensorflow import set_random_seed\n",
        "import tensorflow as tf\n",
        "# from tensorflow.python.keras import backend as K\n",
        "from tensorflow.python.keras.backend import get_session\n",
        "from tensorflow import keras\n",
        "import random as rn\n",
        "import os\n",
        "from nltk import tokenize \n",
        "from google.colab import drive\n",
        "drive.mount('/content/drive')"
      ],
      "execution_count": 1,
      "outputs": [
        {
          "output_type": "stream",
          "text": [
            "Mounted at /content/drive\n"
          ],
          "name": "stdout"
        }
      ]
    },
    {
      "cell_type": "code",
      "metadata": {
        "id": "thHtHYR1Ya03"
      },
      "source": [
        "# Get the file\n",
        "data_path          = '/content/drive/MyDrive/AOBD/data'\n",
        "codes_path         = 'AOBD'\n",
        "cv_models_path     = '/content/drive/MyDrive/AOBD/cv_models/cv_models_toxic'\n",
        "models_path        = 'models/models_toxic'"
      ],
      "execution_count": 2,
      "outputs": []
    },
    {
      "cell_type": "code",
      "metadata": {
        "id": "bSSAJqm1Xlur"
      },
      "source": [
        "import sys\n",
        "sys.path.insert(0,'/content/drive/MyDrive/AOBD')"
      ],
      "execution_count": 3,
      "outputs": []
    },
    {
      "cell_type": "code",
      "metadata": {
        "id": "VskajPUIYKAT",
        "colab": {
          "base_uri": "https://localhost:8080/"
        },
        "outputId": "58ad3d64-a3f0-44f1-f0f5-56a8c0deac03"
      },
      "source": [
        "if tf.config.list_physical_devices('GPU'):\n",
        "  import models\n",
        "else:\n",
        "  import models_no_gpu as models"
      ],
      "execution_count": 4,
      "outputs": [
        {
          "output_type": "stream",
          "text": [
            "[nltk_data] Downloading package punkt to /root/nltk_data...\n",
            "[nltk_data]   Unzipping tokenizers/punkt.zip.\n"
          ],
          "name": "stdout"
        }
      ]
    },
    {
      "cell_type": "code",
      "metadata": {
        "id": "r8k2koT8ZQ5G"
      },
      "source": [
        "# Read file as panda dataframe\n",
        "train           = pd.read_csv(f'{data_path}/train_cleaned_no_punkt.csv') \n",
        "test_labelled   = pd.read_csv(f'{data_path}/test_labelled_cleaned_no_punkt.csv') \n",
        "test_unlabelled = pd.read_csv(f'{data_path}/test_unlabelled_cleaned_no_punkt.csv') \n",
        "\n",
        "train['mal']    = train[['toxic', 'severe_toxic', 'obscene', 'threat', 'insult', 'identity_hate']].sum(axis=1) >= 1  \n",
        "train.drop(['toxic', 'severe_toxic', 'obscene', 'threat', 'insult', 'identity_hate'], axis=1, inplace=True)\n",
        "train.comment_text.fillna(\"empty\", inplace=True)\n",
        "\n",
        "test_labelled['mal'] = test_labelled[['toxic', 'severe_toxic', 'obscene', 'threat', 'insult', 'identity_hate']].sum(axis=1) >= 1  \n",
        "test_labelled.drop(['toxic', 'severe_toxic', 'obscene', 'threat', 'insult', 'identity_hate'], axis=1, inplace=True)\n",
        "test_labelled.comment_text.fillna(\"empty\", inplace=True)\n",
        "\n",
        "test_unlabelled.comment_text.fillna(\"empty\", inplace=True)\n",
        "\n",
        "# CHANGE TRAIN AND TEST, MIX TO GET SIMILAR DISTRIBUTION\n",
        "from sklearn.model_selection import train_test_split\n",
        "rs=42\n",
        "X_train1, X_test1, y_train1, y_test1  = train_test_split(train.drop('mal', axis=1), train.mal, stratify=train.mal, test_size=0.29, random_state=rs )\n",
        "X_train2, X_test2, y_train2, y_test2  = train_test_split(test_labelled.drop('mal', axis=1), test_labelled.mal, stratify=test_labelled.mal, test_size=0.29, random_state=rs)\n",
        "\n",
        "X = np.concatenate((X_train1.comment_text, X_train2.comment_text))\n",
        "y = np.concatenate((y_train1, y_train2))\n",
        "\n",
        "X_test = np.concatenate((X_test1.comment_text, X_test2.comment_text))\n",
        "y_test = np.concatenate((y_test1, y_test2))"
      ],
      "execution_count": 5,
      "outputs": []
    },
    {
      "cell_type": "code",
      "metadata": {
        "id": "ktG1o5q4MLFt"
      },
      "source": [
        "max_features = 40000\n",
        "maxlen       = 400\n",
        "dropout_rate = 0.25\n",
        "#rs           = 42\n",
        "epochs       = 4\n",
        "batch_size   = 256\n",
        "embed_dim    = 50\n",
        "rec_units    = 150\n",
        "\n",
        "\n",
        "max_sen_len    = 100\n",
        "max_sent_amount = 4\n",
        "\n",
        "#seed(rs)\n",
        "#tf.random.set_seed(rs)\n",
        "#rn.seed(rs)\n",
        "\n",
        "#os.environ['PYTHONHASHSEED']=str(rs)"
      ],
      "execution_count": 6,
      "outputs": []
    },
    {
      "cell_type": "markdown",
      "metadata": {
        "id": "zSz0QwlX7zGj"
      },
      "source": [
        "## Deep Learning Models"
      ]
    },
    {
      "cell_type": "markdown",
      "metadata": {
        "id": "1GohFN0YHHZ5"
      },
      "source": [
        "### 1. CNN"
      ]
    },
    {
      "cell_type": "code",
      "metadata": {
        "colab": {
          "base_uri": "https://localhost:8080/"
        },
        "id": "One2JAkkHIHB",
        "outputId": "589f9f97-4b7b-4377-b549-282fafbb3196"
      },
      "source": [
        "models.train_model(X=X, y=y, mtype = 'CNN', cv=True, nfolds=5, epochs=1, cv_models_path=cv_models_path, train=True, rs=rs)"
      ],
      "execution_count": null,
      "outputs": [
        {
          "output_type": "stream",
          "text": [
            "/usr/local/lib/python3.7/dist-packages/sklearn/model_selection/_split.py:296: FutureWarning: Setting a random_state has no effect since shuffle is False. This will raise an error in 0.24. You should leave random_state to its default (None), or set shuffle=True.\n",
            "  FutureWarning\n"
          ],
          "name": "stderr"
        },
        {
          "output_type": "stream",
          "text": [
            " fold 0\n",
            "Fitting\n",
            "496/496 [==============================] - 736s 1s/step - loss: 0.2235 - acc: 0.9257\n",
            "124/124 [==============================] - 48s 388ms/step\n",
            " 0.3 fold 0 precision 0.84 recall 0.747 fscore 0.791\n",
            "fold 0 average precision 0.876\n",
            "fold 0 roc auc 0.973\n",
            " fold 1\n",
            "Fitting\n",
            "496/496 [==============================] - 768s 2s/step - loss: 0.2212 - acc: 0.9273\n",
            "124/124 [==============================] - 50s 401ms/step\n",
            " 0.3 fold 1 precision 0.866 recall 0.708 fscore 0.779\n",
            "fold 1 average precision 0.871\n",
            "fold 1 roc auc 0.97\n",
            " fold 2\n",
            "Fitting\n",
            "496/496 [==============================] - 776s 2s/step - loss: 0.2273 - acc: 0.9252\n",
            "124/124 [==============================] - 50s 401ms/step\n",
            " 0.3 fold 2 precision 0.787 recall 0.783 fscore 0.785\n",
            "fold 2 average precision 0.875\n",
            "fold 2 roc auc 0.972\n",
            " fold 3\n",
            "Fitting\n",
            "496/496 [==============================] - 776s 2s/step - loss: 0.2259 - acc: 0.9163\n",
            "124/124 [==============================] - 50s 400ms/step\n",
            " 0.3 fold 3 precision 0.64 recall 0.811 fscore 0.716\n",
            "fold 3 average precision 0.809\n",
            "fold 3 roc auc 0.965\n",
            " fold 4\n",
            "Fitting\n",
            "496/496 [==============================] - 775s 2s/step - loss: 0.2171 - acc: 0.9195\n",
            "124/124 [==============================] - 50s 400ms/step\n",
            " 0.3 fold 4 precision 0.557 recall 0.858 fscore 0.675\n",
            "fold 4 average precision 0.771\n",
            "fold 4 roc auc 0.963\n",
            "PR-C 0.84\n",
            "ROC AUC 0.969\n",
            "FScore 0.749\n",
            "PR-C std 0.043\n",
            "ROC AUC std 0.004\n",
            "FScore std 0.046\n"
          ],
          "name": "stdout"
        }
      ]
    },
    {
      "cell_type": "code",
      "metadata": {
        "colab": {
          "base_uri": "https://localhost:8080/"
        },
        "id": "IuvWzNUqL5CV",
        "outputId": "c3556471-773d-400c-a7b7-77585d3ef2e4"
      },
      "source": [
        "models.train_model(X=X, y=y, X_test=X_test, y_test=y_test, mtype = 'CNN', cv=False, nfolds=5, epochs=2, cv_models_path=cv_models_path, train=True, rs=rs)"
      ],
      "execution_count": null,
      "outputs": [
        {
          "output_type": "stream",
          "text": [
            "Fitting\n",
            "Epoch 1/2\n",
            "620/620 [==============================] - 957s 2s/step - loss: 0.2102 - acc: 0.9226\n",
            "Epoch 2/2\n",
            "620/620 [==============================] - 967s 2s/step - loss: 0.1166 - acc: 0.9549\n",
            "254/254 [==============================] - 102s 403ms/step\n",
            "_________________________________\n",
            "PR-C is 0.848\n",
            "_________________________________\n",
            "\n",
            "_________________________________\n",
            "ROC AUC is 0.97\n",
            "_________________________________\n",
            "_________________________________\n",
            "FScore is 0.763\n",
            "_________________________________\n",
            "\n"
          ],
          "name": "stdout"
        }
      ]
    },
    {
      "cell_type": "markdown",
      "metadata": {
        "id": "UDEPtPHKGzAV"
      },
      "source": [
        "### 2. LSTM"
      ]
    },
    {
      "cell_type": "code",
      "metadata": {
        "id": "NBEzSCXAMZRj",
        "colab": {
          "base_uri": "https://localhost:8080/"
        },
        "outputId": "27ea3181-2052-43c3-b2f8-13992fb80932"
      },
      "source": [
        "models.train_model(X=X, y=y, mtype = 'LSTM', cv=True, nfolds=5, epochs=2, cv_models_path=cv_models_path, train=True)"
      ],
      "execution_count": null,
      "outputs": [
        {
          "output_type": "stream",
          "text": [
            "/usr/local/lib/python3.7/dist-packages/sklearn/model_selection/_split.py:296: FutureWarning: Setting a random_state has no effect since shuffle is False. This will raise an error in 0.24. You should leave random_state to its default (None), or set shuffle=True.\n",
            "  FutureWarning\n"
          ],
          "name": "stderr"
        },
        {
          "output_type": "stream",
          "text": [
            " fold 0\n",
            "Fitting\n",
            "Epoch 1/2\n",
            "496/496 [==============================] - 1117s 2s/step - loss: 0.2536 - acc: 0.9135\n",
            "Epoch 2/2\n",
            "496/496 [==============================] - 1106s 2s/step - loss: 0.1287 - acc: 0.9516\n",
            "124/124 [==============================] - 85s 686ms/step\n",
            " 0.3 fold 0 precision 0.888 recall 0.717 fscore 0.793\n",
            "fold 0 average precision 0.881\n",
            "fold 0 roc auc 0.968\n",
            " fold 1\n",
            "Fitting\n",
            "Epoch 1/2\n",
            "496/496 [==============================] - 1111s 2s/step - loss: 0.2763 - acc: 0.9067\n",
            "Epoch 2/2\n",
            "496/496 [==============================] - 1104s 2s/step - loss: 0.1296 - acc: 0.9511\n",
            "124/124 [==============================] - 86s 689ms/step\n",
            " 0.3 fold 1 precision 0.914 recall 0.622 fscore 0.74\n",
            "fold 1 average precision 0.853\n",
            "fold 1 roc auc 0.957\n",
            " fold 2\n",
            "Fitting\n",
            "Epoch 1/2\n",
            "496/496 [==============================] - 1102s 2s/step - loss: 0.2650 - acc: 0.9092\n",
            "Epoch 2/2\n",
            "496/496 [==============================] - 1100s 2s/step - loss: 0.1272 - acc: 0.9516\n",
            "124/124 [==============================] - 86s 688ms/step\n",
            " 0.3 fold 2 precision 0.855 recall 0.727 fscore 0.786\n",
            "fold 2 average precision 0.863\n",
            "fold 2 roc auc 0.958\n",
            " fold 3\n",
            "Fitting\n",
            "Epoch 1/2\n",
            "496/496 [==============================] - 1103s 2s/step - loss: 0.2491 - acc: 0.9151\n",
            "Epoch 2/2\n",
            "496/496 [==============================] - 1099s 2s/step - loss: 0.1292 - acc: 0.9510\n",
            "124/124 [==============================] - 86s 689ms/step\n",
            " 0.3 fold 3 precision 0.583 recall 0.859 fscore 0.695\n",
            "fold 3 average precision 0.81\n",
            "fold 3 roc auc 0.963\n",
            " fold 4\n",
            "Fitting\n",
            "Epoch 1/2\n",
            "496/496 [==============================] - 1019s 2s/step - loss: 0.2563 - acc: 0.9139\n",
            "Epoch 2/2\n",
            "496/496 [==============================] - 1014s 2s/step - loss: 0.1187 - acc: 0.9563\n",
            "124/124 [==============================] - 85s 686ms/step\n",
            " 0.3 fold 4 precision 0.653 recall 0.79 fscore 0.715\n",
            "fold 4 average precision 0.787\n",
            "fold 4 roc auc 0.964\n",
            "PR-C 0.838\n",
            "ROC AUC 0.962\n",
            "FScore 0.746\n",
            "PR-C std 0.035\n",
            "ROC AUC std 0.004\n",
            "FScore std 0.039\n"
          ],
          "name": "stdout"
        }
      ]
    },
    {
      "cell_type": "code",
      "metadata": {
        "id": "hRAFx8KFSbPv",
        "colab": {
          "base_uri": "https://localhost:8080/"
        },
        "outputId": "fa23761c-6676-4a86-8c88-c1ee942eb406"
      },
      "source": [
        "models.train_model(X=X, y=y, X_test=X_test, y_test=y_test, mtype = 'LSTM', cv=False, nfolds=5, epochs=2, cv_models_path=cv_models_path, train=True, rs=rs)"
      ],
      "execution_count": null,
      "outputs": [
        {
          "output_type": "stream",
          "text": [
            "Fitting\n",
            "Epoch 1/2\n",
            "620/620 [==============================] - 1369s 2s/step - loss: 0.2670 - acc: 0.9097\n",
            "Epoch 2/2\n",
            "620/620 [==============================] - 1366s 2s/step - loss: 0.1493 - acc: 0.9440\n",
            "254/254 [==============================] - 175s 687ms/step\n",
            "_________________________________\n",
            "PR-C is 0.834\n",
            "_________________________________\n",
            "\n",
            "_________________________________\n",
            "ROC AUC is 0.964\n",
            "_________________________________\n",
            "_________________________________\n",
            "FScore is 0.744\n",
            "_________________________________\n",
            "\n"
          ],
          "name": "stdout"
        }
      ]
    },
    {
      "cell_type": "markdown",
      "metadata": {
        "id": "q1flid6eHcn-"
      },
      "source": [
        "### 3. BLSTM"
      ]
    },
    {
      "cell_type": "code",
      "metadata": {
        "colab": {
          "base_uri": "https://localhost:8080/"
        },
        "id": "CY2rr_6qH_tD",
        "scrolled": false,
        "outputId": "97e21340-f4c6-4026-d0d0-45b15e71128e"
      },
      "source": [
        "models.train_model(X=X, y=y, mtype = 'BLSTM', cv=True, nfolds=5, epochs=2, cv_models_path=cv_models_path, train=True, rs=rs)"
      ],
      "execution_count": null,
      "outputs": [
        {
          "output_type": "stream",
          "text": [
            "/usr/local/lib/python3.7/dist-packages/sklearn/model_selection/_split.py:296: FutureWarning: Setting a random_state has no effect since shuffle is False. This will raise an error in 0.24. You should leave random_state to its default (None), or set shuffle=True.\n",
            "  FutureWarning\n"
          ],
          "name": "stderr"
        },
        {
          "output_type": "stream",
          "text": [
            " fold 0\n",
            "Fitting\n",
            "Epoch 1/2\n",
            "496/496 [==============================] - 2140s 4s/step - loss: 0.2452 - acc: 0.9184\n",
            "Epoch 2/2\n",
            "496/496 [==============================] - 2124s 4s/step - loss: 0.1286 - acc: 0.9509\n",
            "124/124 [==============================] - 165s 1s/step\n",
            " 0.3 fold 0 precision 0.86 recall 0.632 fscore 0.729\n",
            "fold 0 average precision 0.811\n",
            "fold 0 roc auc 0.942\n",
            " fold 1\n",
            "Fitting\n",
            "Epoch 1/2\n",
            "496/496 [==============================] - 2403s 5s/step - loss: 0.2849 - acc: 0.8993\n",
            "Epoch 2/2\n",
            "496/496 [==============================] - 2253s 5s/step - loss: 0.1299 - acc: 0.9501\n",
            "124/124 [==============================] - 168s 1s/step\n",
            " 0.3 fold 1 precision 0.928 recall 0.643 fscore 0.76\n",
            "fold 1 average precision 0.87\n",
            "fold 1 roc auc 0.966\n",
            " fold 2\n",
            "Fitting\n",
            "Epoch 1/2\n",
            "496/496 [==============================] - 2538s 5s/step - loss: 0.2609 - acc: 0.9062\n",
            "Epoch 2/2\n",
            "496/496 [==============================] - 2454s 5s/step - loss: 0.1299 - acc: 0.9505\n",
            "124/124 [==============================] - 169s 1s/step\n",
            " 0.3 fold 2 precision 0.932 recall 0.645 fscore 0.762\n",
            "fold 2 average precision 0.852\n",
            "fold 2 roc auc 0.953\n",
            " fold 3\n",
            "Fitting\n",
            "Epoch 1/2\n",
            " 76/496 [===>..........................] - ETA: 40:31 - loss: 0.3826 - acc: 0.8440"
          ],
          "name": "stdout"
        }
      ]
    },
    {
      "cell_type": "code",
      "metadata": {
        "colab": {
          "base_uri": "https://localhost:8080/"
        },
        "id": "BPi4Ixc0IDQ5",
        "outputId": "ae21f580-b079-44d6-88ac-84694de8b8ce"
      },
      "source": [
        "models.train_model(X=X, y=y, X_test=X_test, y_test=y_test, mtype = 'BLSTM', cv=False, nfolds=5, epochs=2, cv_models_path=cv_models_path, train=True)"
      ],
      "execution_count": null,
      "outputs": [
        {
          "output_type": "stream",
          "text": [
            "Fitting\n",
            "Epoch 1/2\n",
            "620/620 [==============================] - 2989s 5s/step - loss: 0.2452 - acc: 0.9139\n",
            "Epoch 2/2\n",
            "620/620 [==============================] - 2937s 5s/step - loss: 0.1217 - acc: 0.9533\n",
            "254/254 [==============================] - 364s 1s/step\n",
            "_________________________________\n",
            "PR-C is 0.849\n",
            "_________________________________\n",
            "\n",
            "_________________________________\n",
            "ROC AUC is 0.969\n",
            "_________________________________\n",
            "_________________________________\n",
            "FScore is 0.767\n",
            "_________________________________\n",
            "\n"
          ],
          "name": "stdout"
        }
      ]
    },
    {
      "cell_type": "markdown",
      "metadata": {
        "id": "ZjIIr4YWvyBx"
      },
      "source": [
        "# 4. GRU"
      ]
    },
    {
      "cell_type": "code",
      "metadata": {
        "colab": {
          "base_uri": "https://localhost:8080/"
        },
        "id": "3ZcXdOHOJK4a",
        "outputId": "d565118f-f517-4a60-9765-1817fe1a38cb"
      },
      "source": [
        "models.train_model(X=X, y=y, mtype = 'GRU', cv=True, nfolds=5, epochs=2, cv_models_path=cv_models_path, train=True, rs=rs)"
      ],
      "execution_count": null,
      "outputs": [
        {
          "output_type": "stream",
          "text": [
            "/usr/local/lib/python3.7/dist-packages/sklearn/model_selection/_split.py:296: FutureWarning: Setting a random_state has no effect since shuffle is False. This will raise an error in 0.24. You should leave random_state to its default (None), or set shuffle=True.\n",
            "  FutureWarning\n"
          ],
          "name": "stderr"
        },
        {
          "output_type": "stream",
          "text": [
            " fold 0\n",
            "Fitting\n",
            "Epoch 1/2\n",
            "496/496 [==============================] - 975s 2s/step - loss: 0.2526 - acc: 0.9181\n",
            "Epoch 2/2\n",
            "496/496 [==============================] - 967s 2s/step - loss: 0.1323 - acc: 0.9499\n",
            "124/124 [==============================] - 79s 638ms/step\n",
            " 0.3 fold 0 precision 0.833 recall 0.747 fscore 0.787\n",
            "fold 0 average precision 0.873\n",
            "fold 0 roc auc 0.97\n",
            " fold 1\n",
            "Fitting\n",
            "Epoch 1/2\n",
            "496/496 [==============================] - 973s 2s/step - loss: 0.2480 - acc: 0.9189\n",
            "Epoch 2/2\n",
            "496/496 [==============================] - 966s 2s/step - loss: 0.1299 - acc: 0.9504\n",
            "124/124 [==============================] - 79s 634ms/step\n",
            " 0.3 fold 1 precision 0.835 recall 0.765 fscore 0.799\n",
            "fold 1 average precision 0.883\n",
            "fold 1 roc auc 0.972\n",
            " fold 2\n",
            "Fitting\n",
            "Epoch 1/2\n",
            "496/496 [==============================] - 963s 2s/step - loss: 0.2447 - acc: 0.9200\n",
            "Epoch 2/2\n",
            "496/496 [==============================] - 961s 2s/step - loss: 0.1319 - acc: 0.9509\n",
            "124/124 [==============================] - 79s 636ms/step\n",
            " 0.3 fold 2 precision 0.798 recall 0.809 fscore 0.803\n",
            "fold 2 average precision 0.888\n",
            "fold 2 roc auc 0.974\n",
            " fold 3\n",
            "Fitting\n",
            "Epoch 1/2\n",
            "496/496 [==============================] - 963s 2s/step - loss: 0.2507 - acc: 0.9190\n",
            "Epoch 2/2\n",
            "496/496 [==============================] - 961s 2s/step - loss: 0.1297 - acc: 0.9508\n",
            "124/124 [==============================] - 79s 636ms/step\n",
            " 0.3 fold 3 precision 0.684 recall 0.809 fscore 0.741\n",
            "fold 3 average precision 0.825\n",
            "fold 3 roc auc 0.966\n",
            " fold 4\n",
            "Fitting\n",
            "Epoch 1/2\n",
            "496/496 [==============================] - 905s 2s/step - loss: 0.2440 - acc: 0.9219\n",
            "Epoch 2/2\n",
            "496/496 [==============================] - 904s 2s/step - loss: 0.1178 - acc: 0.9568\n",
            "124/124 [==============================] - 79s 635ms/step\n",
            " 0.3 fold 4 precision 0.538 recall 0.891 fscore 0.671\n",
            "fold 4 average precision 0.783\n",
            "fold 4 roc auc 0.966\n",
            "PR-C 0.851\n",
            "ROC AUC 0.97\n",
            "FScore 0.76\n",
            "PR-C std 0.041\n",
            "ROC AUC std 0.003\n",
            "FScore std 0.05\n"
          ],
          "name": "stdout"
        }
      ]
    },
    {
      "cell_type": "code",
      "metadata": {
        "id": "AucULrmbwhKK",
        "colab": {
          "base_uri": "https://localhost:8080/"
        },
        "outputId": "97fd2de6-bec1-48e5-cc70-623dda7a68a1"
      },
      "source": [
        "models.train_model(X=X, y=y, X_test=X_test, y_test=y_test, mtype = 'GRU', cv=False, nfolds=5, epochs=2, cv_models_path=cv_models_path, train=True, rs=rs)"
      ],
      "execution_count": null,
      "outputs": [
        {
          "output_type": "stream",
          "text": [
            "Fitting\n",
            "Epoch 1/2\n",
            "620/620 [==============================] - 1256s 2s/step - loss: 0.2302 - acc: 0.9256\n",
            "Epoch 2/2\n",
            "620/620 [==============================] - 1255s 2s/step - loss: 0.1260 - acc: 0.9525\n",
            "254/254 [==============================] - 166s 654ms/step\n",
            "_________________________________\n",
            "PR-C is 0.85\n",
            "_________________________________\n",
            "\n",
            "_________________________________\n",
            "ROC AUC is 0.969\n",
            "_________________________________\n",
            "_________________________________\n",
            "FScore is 0.76\n",
            "_________________________________\n",
            "\n"
          ],
          "name": "stdout"
        }
      ]
    },
    {
      "cell_type": "markdown",
      "metadata": {
        "id": "RAV8EC5twAuW"
      },
      "source": [
        "# 5. BGRU"
      ]
    },
    {
      "cell_type": "code",
      "metadata": {
        "id": "tCX7i28dw1hz",
        "colab": {
          "base_uri": "https://localhost:8080/"
        },
        "outputId": "131c4a69-2aaa-4ad5-8504-fb5c84d6002a"
      },
      "source": [
        "models.train_model(X=X, y=y, mtype = 'BGRU', cv=True, nfolds=5, epochs=2, cv_models_path=cv_models_path, train=True, rs=rs)"
      ],
      "execution_count": null,
      "outputs": [
        {
          "output_type": "stream",
          "text": [
            "/usr/local/lib/python3.7/dist-packages/sklearn/model_selection/_split.py:296: FutureWarning: Setting a random_state has no effect since shuffle is False. This will raise an error in 0.24. You should leave random_state to its default (None), or set shuffle=True.\n",
            "  FutureWarning\n"
          ],
          "name": "stderr"
        },
        {
          "output_type": "stream",
          "text": [
            " fold 0\n",
            "Fitting\n",
            "Epoch 1/2\n",
            "496/496 [==============================] - 2044s 4s/step - loss: 0.2441 - acc: 0.9176\n",
            "Epoch 2/2\n",
            "496/496 [==============================] - 2018s 4s/step - loss: 0.1342 - acc: 0.9493\n",
            "124/124 [==============================] - 149s 1s/step\n",
            " 0.3 fold 0 precision 0.804 recall 0.786 fscore 0.795\n",
            "fold 0 average precision 0.88\n",
            "fold 0 roc auc 0.97\n",
            " fold 1\n",
            "Fitting\n",
            "Epoch 1/2\n",
            "496/496 [==============================] - 2000s 4s/step - loss: 0.2398 - acc: 0.9146\n",
            "Epoch 2/2\n",
            "496/496 [==============================] - 2003s 4s/step - loss: 0.1302 - acc: 0.9500\n",
            "124/124 [==============================] - 148s 1s/step\n",
            " 0.3 fold 1 precision 0.778 recall 0.804 fscore 0.791\n",
            "fold 1 average precision 0.879\n",
            "fold 1 roc auc 0.969\n",
            " fold 2\n",
            "Fitting\n",
            "Epoch 1/2\n",
            "496/496 [==============================] - 2009s 4s/step - loss: 0.2464 - acc: 0.9225\n",
            "Epoch 2/2\n",
            "496/496 [==============================] - 1981s 4s/step - loss: 0.1320 - acc: 0.9508\n",
            "124/124 [==============================] - 150s 1s/step\n",
            " 0.3 fold 2 precision 0.877 recall 0.736 fscore 0.8\n",
            "fold 2 average precision 0.885\n",
            "fold 2 roc auc 0.972\n",
            " fold 3\n",
            "Fitting\n",
            "Epoch 1/2\n",
            "496/496 [==============================] - 2007s 4s/step - loss: 0.2428 - acc: 0.9175\n",
            "Epoch 2/2\n",
            "496/496 [==============================] - 1991s 4s/step - loss: 0.1256 - acc: 0.9533\n",
            "124/124 [==============================] - 148s 1s/step\n",
            " 0.3 fold 3 precision 0.645 recall 0.832 fscore 0.727\n",
            "fold 3 average precision 0.825\n",
            "fold 3 roc auc 0.967\n",
            " fold 4\n",
            "Fitting\n",
            "Epoch 1/2\n",
            "496/496 [==============================] - 1899s 4s/step - loss: 0.2344 - acc: 0.9251\n",
            "Epoch 2/2\n",
            "496/496 [==============================] - 1917s 4s/step - loss: 0.1191 - acc: 0.9568\n",
            "124/124 [==============================] - 151s 1s/step\n",
            " 0.3 fold 4 precision 0.564 recall 0.875 fscore 0.686\n",
            "fold 4 average precision 0.786\n",
            "fold 4 roc auc 0.967\n",
            "PR-C 0.851\n",
            "ROC AUC 0.969\n",
            "FScore 0.76\n",
            "PR-C std 0.039\n",
            "ROC AUC std 0.002\n",
            "FScore std 0.046\n"
          ],
          "name": "stdout"
        }
      ]
    },
    {
      "cell_type": "code",
      "metadata": {
        "id": "KF2jcl89wDF8",
        "colab": {
          "base_uri": "https://localhost:8080/"
        },
        "outputId": "21373fa2-8486-421f-ac4e-e0065e39f8c5"
      },
      "source": [
        "models.train_model(X=X, y=y, X_test=X_test, y_test=y_test, mtype = 'BGRU', cv=False, nfolds=5, epochs=2, cv_models_path=cv_models_path, train=True, rs=rs)"
      ],
      "execution_count": null,
      "outputs": [
        {
          "output_type": "stream",
          "text": [
            "Fitting\n",
            "Epoch 1/2\n",
            "620/620 [==============================] - 2555s 4s/step - loss: 0.2289 - acc: 0.9239\n",
            "Epoch 2/2\n",
            "620/620 [==============================] - 2567s 4s/step - loss: 0.1211 - acc: 0.9543\n",
            "254/254 [==============================] - 308s 1s/step\n",
            "_________________________________\n",
            "PR-C is 0.852\n",
            "_________________________________\n",
            "\n",
            "_________________________________\n",
            "ROC AUC is 0.97\n",
            "_________________________________\n",
            "_________________________________\n",
            "FScore is 0.761\n",
            "_________________________________\n",
            "\n"
          ],
          "name": "stdout"
        }
      ]
    }
  ]
}